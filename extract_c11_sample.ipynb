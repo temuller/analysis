{
 "cells": [
  {
   "cell_type": "code",
   "execution_count": 1,
   "metadata": {},
   "outputs": [],
   "source": [
    "import pandas as pd\n",
    "import numpy as np\n",
    "import glob\n",
    "import re"
   ]
  },
  {
   "cell_type": "markdown",
   "metadata": {},
   "source": [
    "# lowz"
   ]
  },
  {
   "cell_type": "markdown",
   "metadata": {},
   "source": [
    "sn2006bk: U band deleted, only 1 data point\n",
    "\n",
    "sn2001cz: U band deleted, only 1 data point\n",
    "\n",
    "sn1993l: U band deleted, only 1 data point\n",
    "\n",
    "sn2003cq: U band deleted, only 1 data point\n",
    "\n",
    "sn1999bm: I band deleted, only 1 data point\n",
    "\n",
    "sn2000bh: U band deleted, only 1 data point"
   ]
  },
  {
   "cell_type": "code",
   "execution_count": 3,
   "metadata": {},
   "outputs": [
    {
     "name": "stdout",
     "output_type": "stream",
     "text": [
      "There are 116 SNe with Sifto results\n",
      "There are 168 SNe without Sifto results\n",
      "Total: 284 SNe\n"
     ]
    }
   ],
   "source": [
    "sne_directories = glob.glob('test_files/Sifto/SALT2/lowz/*')\n",
    "sifto_params = pd.read_csv('test_files/Sifto/sifto.dat', delim_whitespace=True)\n",
    "\n",
    "sn_count = 0\n",
    "sn_exc_count = 0\n",
    "for directory in sne_directories:\n",
    "    sn_directory = glob.glob(f'{directory}/lc2fit*')\n",
    "    name = directory.split('/')[-1]\n",
    "    \n",
    "    if name in sifto_params['#name'].values:     \n",
    "        with open(f'{directory}/lightfile', 'r') as f:\n",
    "            for line in f:\n",
    "                if line.startswith('z_cmb'):\n",
    "                    z = line.split()[-1]\n",
    "                if line.startswith('RA'):\n",
    "                    ra = line.split()[-1]\n",
    "                if line.startswith('DEC'):\n",
    "                    dec = line.split()[-1]\n",
    "\n",
    "        mjd, flux, err, zps, bands = np.empty(0), np.empty(0), np.empty(0), [], []\n",
    "        for band_file in sn_directory:\n",
    "            band = re.split('lc2fit_|\\.dat', band_file)[-2]\n",
    "            if len(band)==1:\n",
    "                band = 'Standard_'+band\n",
    "\n",
    "            zp = 27\n",
    "            d, m, e = np.loadtxt(band_file, skiprows=3).T\n",
    "            f = 10**(-0.4*(m-zp))\n",
    "            df = np.abs(f* (-0.4*np.log(10)*e))\n",
    "\n",
    "            mjd, flux, err = np.r_[mjd, d], np.r_[flux, f], np.r_[err, df]\n",
    "            zps.append([zp]*len(f))\n",
    "            bands.append([band]*len(f))\n",
    "\n",
    "        sn_df = pd.DataFrame(columns = ['mjd', 'flux' ,'flux_err', 'zp', 'band', 'mag_sys'])\n",
    "        # create a flat list with bands and zps and mag_sys\n",
    "        bands = [item for sublist in bands for item in sublist]\n",
    "        zps = [item for sublist in zps for item in sublist]\n",
    "        mag_sys = ['VEGA']*len(zps)\n",
    "        sn_df.mjd, sn_df.flux, sn_df.flux_err, sn_df.zp, sn_df.band, sn_df.mag_sys = mjd, flux, err, zps, bands, mag_sys\n",
    "\n",
    "        ##############\n",
    "        save = True\n",
    "        if save:\n",
    "            data_file = 'data_sifto/'+name+'.dat'\n",
    "            with open(data_file, 'w') as file:\n",
    "                file.write('name z ra dec\\n')\n",
    "                file.write(f'{name} {z} {ra} {dec}\\n')\n",
    "            sn_df[['mjd', 'flux', 'flux_err', 'zp', 'band', 'mag_sys']].to_csv(data_file, index=False, sep=' ', mode='a')\n",
    "        sn_count += 1\n",
    "\n",
    "    else:\n",
    "        #print(f'{name} not in Sifto!')\n",
    "        sn_exc_count += 1\n",
    "        pass\n",
    "        \n",
    "print(f'There are {sn_count} SNe with Sifto results')\n",
    "print(f'There are {sn_exc_count} SNe without Sifto results')\n",
    "print(f'Total: {sn_count + sn_exc_count} SNe')"
   ]
  },
  {
   "cell_type": "markdown",
   "metadata": {},
   "source": [
    "## SDSS"
   ]
  },
  {
   "cell_type": "code",
   "execution_count": 4,
   "metadata": {},
   "outputs": [
    {
     "name": "stdout",
     "output_type": "stream",
     "text": [
      "There are 91 SNe with Sifto results (2 with multiple data not counted)\n",
      "There are 53 SNe without Sifto results\n",
      "Total: 146 SNe\n"
     ]
    }
   ],
   "source": [
    "sne_directories = glob.glob('test_files/Sifto/SALT2/SDSS/*')\n",
    "sifto_params = pd.read_csv('test_files/Sifto/sifto.dat', delim_whitespace=True)\n",
    "\n",
    "sn_count = 0\n",
    "sn_exc_count = 0\n",
    "sn_multi_count = 0\n",
    "#sne_directories = [sne_directories[0]]\n",
    "for directory in sne_directories:\n",
    "    sn_directory = glob.glob(f'{directory}/lc2fit*')\n",
    "    name = directory.split('/')[-1]\n",
    "    \n",
    "    if name in sifto_params['#name'].values:     \n",
    "        with open(f'{directory}/lightfile', 'r') as f:\n",
    "            for line in f:\n",
    "                if line.startswith('z_cmb'):\n",
    "                    z = line.split()[-1]\n",
    "                if line.startswith('RA'):\n",
    "                    ra = line.split()[-1]\n",
    "                if line.startswith('DEC'):\n",
    "                    dec = line.split()[-1]\n",
    "\n",
    "        mjd, flux, err, zps, bands = np.empty(0), np.empty(0), np.empty(0), [], []\n",
    "        for band_file in sn_directory:\n",
    "            band = re.split('lc2fit_|\\.dat', band_file)[-2]\n",
    "            if len(band)==1:\n",
    "                band = band+'_2.5m'\n",
    "                \n",
    "            d, f, df, zp = np.loadtxt(band_file, skiprows=3).T\n",
    "\n",
    "            mjd, flux, err, zps = np.r_[mjd, d], np.r_[flux, f], np.r_[err, df], np.r_[zps, zp]\n",
    "            bands.append([band]*len(f))\n",
    "\n",
    "        sn_df = pd.DataFrame(columns = ['mjd', 'flux' ,'flux_err', 'zp', 'band', 'mag_sys'])\n",
    "        # create a flat list with bands and mag_sys\n",
    "        bands = [item for sublist in bands for item in sublist]\n",
    "        mag_sys = ['AB']*len(bands)\n",
    "        sn_df.mjd, sn_df.flux, sn_df.flux_err, sn_df.zp, sn_df.band, sn_df.mag_sys = mjd, flux, err, zps, bands, mag_sys\n",
    "\n",
    "        ##############\n",
    "        save = True\n",
    "        if save and (name!='sn2005hc' and name!='sn2005hj' and name!='sn2005hk' and name!='sn2005ir'):\n",
    "            data_file = 'data_sifto/'+name+'.dat'\n",
    "            with open(data_file, 'w') as file:\n",
    "                file.write('name z ra dec\\n')\n",
    "                file.write(f'{name} {z} {ra} {dec}\\n')\n",
    "            sn_df[['mjd', 'flux', 'flux_err', 'zp', 'band', 'mag_sys']].to_csv(data_file, index=False, sep=' ', mode='a')\n",
    "            \n",
    "        if name!='sn2005hc' and name!='sn2005hj' and name!='sn2005hk' and name!='sn2005ir':\n",
    "            sn_count += 1\n",
    "        else:\n",
    "            sn_multi_count += 1\n",
    "\n",
    "    elif not name.endswith('.txt'):\n",
    "        #print(f'{name} not in Sifto!')\n",
    "        sn_exc_count += 1\n",
    "        pass\n",
    "        \n",
    "print(f'There are {sn_count} SNe with Sifto results ({sn_multi_count} with multiple data not counted)')\n",
    "print(f'There are {sn_exc_count} SNe without Sifto results')\n",
    "print(f'Total: {sn_count + sn_exc_count + sn_multi_count} SNe')"
   ]
  },
  {
   "cell_type": "markdown",
   "metadata": {},
   "source": [
    "## SNLS"
   ]
  },
  {
   "cell_type": "code",
   "execution_count": 5,
   "metadata": {},
   "outputs": [
    {
     "name": "stdout",
     "output_type": "stream",
     "text": [
      "There are 241 SNe with Sifto results\n",
      "There are 51 SNe without Sifto results\n",
      "Total: 292 SNe\n"
     ]
    }
   ],
   "source": [
    "sne_directories = glob.glob('test_files/Sifto/SALT2/SNLS/*')\n",
    "sifto_params = pd.read_csv('test_files/Sifto/sifto.dat', delim_whitespace=True)\n",
    "\n",
    "sn_count = 0\n",
    "sn_exc_count = 0\n",
    "#sne_directories = [sne_directories[0]]\n",
    "for directory in sne_directories:\n",
    "    sn_directory = glob.glob(f'{directory}/lc2fit*')\n",
    "    name = directory.split('/')[-1]\n",
    "    \n",
    "    if name in sifto_params['#name'].values:     \n",
    "        with open(f'{directory}/lightfile', 'r') as f:\n",
    "            for line in f:\n",
    "                if line.startswith('z_cmb'):\n",
    "                    z = line.split()[-1]\n",
    "                if line.startswith('RA'):\n",
    "                    ra = line.split()[-1]\n",
    "                if line.startswith('DEC'):\n",
    "                    dec = line.split()[-1]\n",
    "\n",
    "        mjd, flux, err, zps, bands = np.empty(0), np.empty(0), np.empty(0), [], []\n",
    "        for band_file in sn_directory:\n",
    "            band = re.split('lc2fit_|\\.dat', band_file)[-2]\n",
    "            if len(band)==1:\n",
    "                band = band+'sSAGEMrf4'\n",
    "                \n",
    "            d, f, df, zp = np.loadtxt(band_file, skiprows=13).T\n",
    "\n",
    "            if not isinstance(f, float):\n",
    "                mjd, flux, err, zps = np.r_[mjd, d], np.r_[flux, f], np.r_[err, df], np.r_[zps, zp]\n",
    "                bands.append([band]*len(f))\n",
    "\n",
    "        sn_df = pd.DataFrame(columns = ['mjd', 'flux' ,'flux_err', 'zp', 'band', 'mag_sys'])\n",
    "        # create a flat list with bands and mag_sys\n",
    "        bands = [item for sublist in bands for item in sublist]\n",
    "        mag_sys = ['VEGA']*len(bands)\n",
    "        sn_df.mjd, sn_df.flux, sn_df.flux_err, sn_df.zp, sn_df.band, sn_df.mag_sys = mjd, flux, err, zps, bands, mag_sys\n",
    "\n",
    "        ##############\n",
    "        save = False\n",
    "        if save:\n",
    "            data_file = 'data_sifto/'+name+'.dat'\n",
    "            with open(data_file, 'w') as file:\n",
    "                file.write('name z ra dec\\n')\n",
    "                file.write(f'{name} {z} {ra} {dec}\\n')\n",
    "            sn_df[['mjd', 'flux', 'flux_err', 'zp', 'band', 'mag_sys']].to_csv(data_file, index=False, sep=' ', mode='a')\n",
    "        sn_count += 1\n",
    "\n",
    "    elif (not name.endswith('.txt')) and (not name.startswith('README')):\n",
    "        #print(f'{name} not in Sifto!')\n",
    "        sn_exc_count += 1\n",
    "        pass\n",
    "        \n",
    "print(f'There are {sn_count} SNe with Sifto results')\n",
    "print(f'There are {sn_exc_count} SNe without Sifto results')\n",
    "print(f'Total: {sn_count + sn_exc_count} SNe')"
   ]
  },
  {
   "cell_type": "markdown",
   "metadata": {},
   "source": [
    "## HST"
   ]
  },
  {
   "cell_type": "code",
   "execution_count": 6,
   "metadata": {},
   "outputs": [
    {
     "name": "stdout",
     "output_type": "stream",
     "text": [
      "There are 14 SNe with Sifto results\n",
      "There are 26 SNe without Sifto results\n",
      "Total: 40 SNe\n"
     ]
    }
   ],
   "source": [
    "sne_directories = glob.glob('test_files/Sifto/SALT2/RiessHST/*')\n",
    "sifto_params = pd.read_csv('test_files/Sifto/sifto.dat', delim_whitespace=True)\n",
    "\n",
    "sn_count = 0\n",
    "sn_exc_count = 0\n",
    "#sne_directories = [sne_directories[0]]\n",
    "for directory in sne_directories:\n",
    "    sn_directory = glob.glob(f'{directory}/lc2fit*')\n",
    "    name = directory.split('/')[-1]\n",
    "    \n",
    "    if name in sifto_params['#name'].values:     \n",
    "        with open(f'{directory}/lightfile', 'r') as f:\n",
    "            for line in f:\n",
    "                if line.startswith('z_cmb'):\n",
    "                    z = line.split()[-1]\n",
    "                if line.startswith('RA'):\n",
    "                    ra = line.split()[-1]\n",
    "                if line.startswith('DEC'):\n",
    "                    dec = line.split()[-1]\n",
    "\n",
    "        mjd, flux, err, zps, bands = np.empty(0), np.empty(0), np.empty(0), [], []\n",
    "        for band_file in sn_directory:\n",
    "            band = re.split('lc2fit_|\\.dat', band_file)[-2]\n",
    "                \n",
    "            d, f, df, zp = np.loadtxt(band_file, skiprows=3).T\n",
    "\n",
    "            if not isinstance(f, float):\n",
    "                mjd, flux, err, zps = np.r_[mjd, d], np.r_[flux, f], np.r_[err, df], np.r_[zps, zp]\n",
    "                bands.append([band]*len(f))\n",
    "\n",
    "        sn_df = pd.DataFrame(columns = ['mjd', 'flux' ,'flux_err', 'zp', 'band', 'mag_sys'])\n",
    "        # create a flat list with bands and mag_sys\n",
    "        bands = [item for sublist in bands for item in sublist]\n",
    "        mag_sys = ['VEGA']*len(bands)\n",
    "        sn_df.mjd, sn_df.flux, sn_df.flux_err, sn_df.zp, sn_df.band, sn_df.mag_sys = mjd, flux, err, zps, bands, mag_sys\n",
    "\n",
    "        ##############\n",
    "        save = False\n",
    "        if save:\n",
    "            data_file = 'data_sifto/'+name+'.dat'\n",
    "            with open(data_file, 'w') as file:\n",
    "                file.write('name z ra dec\\n')\n",
    "                file.write(f'{name} {z} {ra} {dec}\\n')\n",
    "            sn_df[['mjd', 'flux', 'flux_err', 'zp', 'band', 'mag_sys']].to_csv(data_file, index=False, sep=' ', mode='a')\n",
    "        sn_count += 1\n",
    "\n",
    "    else:\n",
    "        #print(f'{name} not in Sifto!')\n",
    "        sn_exc_count += 1\n",
    "        pass\n",
    "        \n",
    "print(f'There are {sn_count} SNe with Sifto results')\n",
    "print(f'There are {sn_exc_count} SNe without Sifto results')\n",
    "print(f'Total: {sn_count + sn_exc_count} SNe')"
   ]
  },
  {
   "cell_type": "markdown",
   "metadata": {},
   "source": [
    "There is a total of 766 SNe and 462 with Sifto results."
   ]
  },
  {
   "cell_type": "code",
   "execution_count": null,
   "metadata": {},
   "outputs": [],
   "source": []
  }
 ],
 "metadata": {
  "kernelspec": {
   "display_name": "Python 3",
   "language": "python",
   "name": "python3"
  },
  "language_info": {
   "codemirror_mode": {
    "name": "ipython",
    "version": 3
   },
   "file_extension": ".py",
   "mimetype": "text/x-python",
   "name": "python",
   "nbconvert_exporter": "python",
   "pygments_lexer": "ipython3",
   "version": "3.7.3"
  }
 },
 "nbformat": 4,
 "nbformat_minor": 2
}
