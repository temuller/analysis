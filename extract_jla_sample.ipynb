{
 "cells": [
  {
   "cell_type": "markdown",
   "metadata": {},
   "source": [
    "# JLA Supernova sample\n",
    "\n",
    "JLA data taken from [here](http://supernovae.in2p3.fr/sdss_snls_jla/ReadMe.html) (*jla_light_curves.tgz* file). For more information about the calibration of the sample check [Betoule et al. (2014)](https://ui.adsabs.harvard.edu/#abs/arXiv:1401.4064). Six SNe (sn2005hc, sn2005ir, sn2006nz, sn2006oa, sn2006ob, sn2006on) are in common with SDSS and either CfAIII or CSP (therefore the measurements are in different magnitude systems). The light-curve files contains a merge of all available photometry for these SNe.\n",
    "\n",
    "Different filters used taken from _jla-instruments-2-4.tar.gz_ file in [here](http://supernovae.in2p3.fr/salt/doku.php?id=instruments). Filters corresponding to the different surveys/samples are listed below:\n",
    "\n",
    "CalanTololo $\\rightarrow$ STANDARD (SNLS3-Landolt-model)\n",
    "\n",
    "low-z $\\rightarrow$ STANDARD (SNLS3-Landolt-model)\n",
    "\n",
    "CSP $\\rightarrow$ SWOPE2\n",
    "\n",
    "CfAI $\\rightarrow$ STANDARD (SNLS3-Landolt-model)\n",
    "\n",
    "CfAII $\\rightarrow$ STANDARD (SNLS3-Landolt-model)\n",
    "\n",
    "CfAIII $\\rightarrow$ KEPLERCAM & 4SHOOTER2\n",
    "\n",
    "SNLS $\\rightarrow$ MEGACAMPSF (Megacam-PSF; SNLS3-Megacam-model)\n",
    "\n",
    "SDSS $\\rightarrow$ SDSS\n",
    "\n",
    "__See the 'fitmodel.card' file for more info regarding the magnitude systems and offsets__"
   ]
  },
  {
   "cell_type": "code",
   "execution_count": 1,
   "metadata": {},
   "outputs": [
    {
     "name": "stdout",
     "output_type": "stream",
     "text": [
      "{'CalanTololo': 17, 'lowz': 11, 'CSP': 13, 'CfAI': 7, 'CfAII': 15, 'CfAIII': 55, 'SNLS': 239, 'SDSS': 374, 'HST': 9}\n",
      "Total of 740 SNe\n",
      "ready\n"
     ]
    }
   ],
   "source": [
    "import pandas as pd\n",
    "import numpy as np\n",
    "import glob\n",
    "import os\n",
    "\n",
    "jla_lcparams = pd.read_csv('test_files/JLA/jla_lcparams.txt', delim_whitespace=True)\n",
    "lc_files = [file for file in glob.glob('test_files/JLA/jla_light_curves/lc*')]\n",
    "#lc_files = [file for file in lc_files if 'lc-sn' in file]\n",
    "\n",
    "surveys_count = {'CalanTololo':0, 'lowz':0, 'CSP':0, 'CfAI':0, 'CfAII':0, 'CfAIII':0, 'SNLS':0, 'SDSS':0, 'HST':0}\n",
    "count_sn_per_survey = True\n",
    "\n",
    "for file in lc_files:\n",
    "\n",
    "    sn_df = pd.read_csv(file, delim_whitespace=True, comment='@', names=['mjd', 'flux', 'flux_err', 'zp', 'band', 'mag_sys']).iloc[7:]\n",
    "    sn = file.split('lc-')[-1][:-5]\n",
    "    \n",
    "    # z, ra, dec\n",
    "    sn_info = pd.read_csv('test_files/JLA/jla_lcparams.txt', delim_whitespace=True)\n",
    "    sn_info = sn_info[sn_info['#name']==sn]\n",
    "    z = sn_info.zcmb.values[0]\n",
    "    ra = sn_info.ra.values[0]\n",
    "    dec = sn_info.dec.values[0]\n",
    "\n",
    "    if count_sn_per_survey:\n",
    "        with open(file) as search:\n",
    "            for line in search:\n",
    "                if '@SURVEY' in line:\n",
    "                    survey_name = line.split()[-1]\n",
    "                    surveys_count[survey_name] += 1\n",
    "                    break\n",
    "                if '@SET' in line and 'RiessHST' in line:\n",
    "                    surveys_count['HST'] += 1\n",
    "                    break\n",
    "    \n",
    "    # rename bands\n",
    "    sn_df['band'] = sn_df['band'].str.replace('STANDARD::', 'Standard_') \n",
    "    sn_df['band'] = sn_df['band'].str.replace('SWOPE2::', 'csp_') \n",
    "    sn_df['band'] = sn_df['band'].str.replace('KEPLERCAM::', 'Keplercam_') \n",
    "    sn_df['band'] = sn_df['band'].str.replace('4SHOOTER2::', '4Shooter2_') \n",
    "    sn_df['band'] = sn_df['band'].str.replace('MEGACAMPSF::', 'Megacam_')\n",
    "    sn_df['band'] = sn_df['band'].str.replace('SDSS::', 'sdss_') \n",
    "    sn_df['band'] = sn_df['band'].str.replace('ACSWF::', 'ACSWF_') \n",
    "    sn_df['band'] = sn_df['band'].str.replace('NICMOS2::', 'NICMOS2_') \n",
    "    \n",
    "    # rename magnitude system\n",
    "    sn_df['mag_sys'] = sn_df['mag_sys'].str.replace('VEGA2', 'BD17')\n",
    "    sn_df['mag_sys'] = sn_df['mag_sys'].str.replace('VEGAHST', 'BD17')\n",
    "    sn_df['mag_sys'] = sn_df['mag_sys'].str.replace('AB_B12', 'AB')\n",
    "    \n",
    "    sn_df[['flux', 'flux_err']] = sn_df[['flux', 'flux_err']].round(3)\n",
    "    \n",
    "    sn_file_name = f'data_jla/{sn}.dat'\n",
    "    with open(sn_file_name, 'w') as file:\n",
    "        file.write('name z ra dec\\n')\n",
    "        file.write(f'{sn} {z} {ra} {dec} \\n')\n",
    "    sn_df[['mjd', 'flux', 'flux_err', 'zp', 'band', 'mag_sys']].to_csv(sn_file_name, index=False, sep=' ', mode='a')\n",
    "        \n",
    "if count_sn_per_survey:\n",
    "    print(surveys_count)\n",
    "    n = [val for val in surveys_count.values()]\n",
    "    print(f'Total of {np.sum(n)} SNe')\n",
    "print('ready')"
   ]
  },
  {
   "cell_type": "code",
   "execution_count": null,
   "metadata": {},
   "outputs": [],
   "source": []
  }
 ],
 "metadata": {
  "kernelspec": {
   "display_name": "Python 3",
   "language": "python",
   "name": "python3"
  },
  "language_info": {
   "codemirror_mode": {
    "name": "ipython",
    "version": 3
   },
   "file_extension": ".py",
   "mimetype": "text/x-python",
   "name": "python",
   "nbconvert_exporter": "python",
   "pygments_lexer": "ipython3",
   "version": "3.8.0"
  }
 },
 "nbformat": 4,
 "nbformat_minor": 4
}
