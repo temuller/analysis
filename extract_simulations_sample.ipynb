{
 "cells": [
  {
   "cell_type": "markdown",
   "metadata": {},
   "source": [
    "# **Extract SALT2-simulated SNe Ia samples**\n",
    "\n",
    "SN simulations created with SNANA.\n",
    "\n",
    "The ZP are 27.5 by default (do not pay attention to the ZEROPT column).\n",
    "\n",
    "PHOTFLAG_DETECT: 4096 # set this bit for each detection"
   ]
  },
  {
   "cell_type": "markdown",
   "metadata": {},
   "source": [
    "# **=======================================================================**\n",
    "# **My Simulations**\n",
    "___"
   ]
  },
  {
   "cell_type": "code",
   "execution_count": 19,
   "metadata": {},
   "outputs": [],
   "source": [
    "import numpy as np\n",
    "import pandas as pd\n",
    "import matplotlib.pyplot as plt\n",
    "from astropy.io import fits\n",
    "import glob\n",
    "import random\n",
    "import os"
   ]
  },
  {
   "cell_type": "code",
   "execution_count": 2,
   "metadata": {},
   "outputs": [],
   "source": [
    "def compare_salt2(hdul_head_file, fits_file, sn_name):\n",
    "    hdul_head = fits.open(hdul_head_file)\n",
    "    fit_params_df = pd.read_csv(fits_file, delim_whitespace=True, comment='#')\n",
    "    column_names = hdul_head[1].data.dtype.names\n",
    "    \n",
    "    index_dict = {}\n",
    "    for i, col_name in enumerate(column_names):\n",
    "        index_dict[col_name] = i\n",
    "\n",
    "    sn_dict = {}\n",
    "    for sn_info in hdul_head[1].data:\n",
    "        if sn_name == sn_info[index_dict['SNID']]:\n",
    "            sn_dict[sn_name] = {col_name:sn_info[index_dict[col_name]] for col_name in column_names}\n",
    "            \n",
    "    sim_params_df = pd.DataFrame.from_dict(sn_dict, 'index').sort_values('SNID')\n",
    "    print(f'SN: {sn_name}\\n')\n",
    "    ######################################################################\n",
    "    sim_mb = sim_params_df[sim_params_df.SNID==sn_name]['SIM_SALT2mB'].values[0]\n",
    "    sim_x1 = sim_params_df[sim_params_df.SNID==sn_name]['SIM_SALT2x1'].values[0]\n",
    "    sim_c = sim_params_df[sim_params_df.SNID==sn_name]['SIM_SALT2c'].values[0]\n",
    "    sim_tmax = sim_params_df[sim_params_df.SNID==sn_name]['SIM_PEAKMJD'].values[0]\n",
    "    print(f'Simulated SALT2 params --- mb: {sim_mb:.3f}, x1: {sim_x1:.3f},',\n",
    "          f'dm15: {1.09-0.161*sim_x1+0.13*sim_x1**2-0.0013*sim_x1**3:.3f}, c: {sim_c:.3f}, tmax: {sim_tmax:.3f}')\n",
    "\n",
    "    mb = fit_params_df[fit_params_df.CID.astype(str)==sn_name]['mB'].values[0]\n",
    "    x1 = fit_params_df[fit_params_df.CID.astype(str)==sn_name]['x1'].values[0]\n",
    "    c = fit_params_df[fit_params_df.CID.astype(str)==sn_name]['c'].values[0]\n",
    "    tmax = fit_params_df[fit_params_df.CID.astype(str)==sn_name]['PKMJD'].values[0]\n",
    "    print(f'Fitted SALT2 params    --- mb: {mb:.3f}, x1: {x1:.3f},',\n",
    "          f'dm15: {1.09-0.161*x1+0.13*x1**2-0.0013*x1**3:.3f}, c: {c:.3f}, tmax: {tmax:.3f}')"
   ]
  },
  {
   "cell_type": "code",
   "execution_count": 15,
   "metadata": {},
   "outputs": [],
   "source": [
    "def extract_sample(hdul_head_file, hdul_phot_file, mag_sys, sn_name_prefix=''):\n",
    "    \n",
    "    lowz_filters = {'a':'4shooter2_U', 'b':'4shooter2_B', 'c':'4shooter2_V', 'd':'4shooter2_R', 'e':'4shooter2_I',\n",
    "                'f':'p1_U', 'g':'p1_B', 'h':'p1_V', 'i':'p1_r', 'j':'p1_i',\n",
    "                'k':'p1_U', 'l':'p1_B', 'm':'p1_V', 'n':'p1_r', 'o':'p1_i',\n",
    "                'p':'p2_B', 'q':'p2_V', 'r':'p2_r', 's':'p2_i',\n",
    "                't':'csp_u', 'u':'csp_B', 'v':'csp_o', 'w':'csp_m', \n",
    "                'x':'csp_n', 'y':'csp_g', 'z':'csp_r', 'A':'csp_i'}\n",
    "    \n",
    "    bands_dict = {'CFA3S':['a', 'b', 'c', 'd', 'e'],\n",
    "              'CFA3K':['f', 'g', 'h', 'i', 'j'],\n",
    "              'CFA4p1':['k', 'l', 'm', 'n', 'o'],\n",
    "              'CFA4p2':['p', 'q', 'r', 's'],\n",
    "              'CSP':['t', 'u', 'v', 'w', 'x', 'y', 'z', 'A']\n",
    "             }\n",
    "    \n",
    "    #######################################\n",
    " \n",
    "    ####### HEAD ######\n",
    "    hdul_head = fits.open(hdul_head_file)\n",
    "    column_names = hdul_head[1].data.dtype.names\n",
    "    \n",
    "    index_dict = {}\n",
    "    for i, col_name in enumerate(column_names):\n",
    "        index_dict[col_name] = i\n",
    "\n",
    "    sn_dict = {}\n",
    "    for sn_info in hdul_head[1].data:\n",
    "        sn_name = sn_info[index_dict['SNID']]\n",
    "        sn_dict[sn_name] = {col_name:sn_info[index_dict[col_name]] for col_name in column_names}\n",
    "\n",
    "    ####### PHOT ######\n",
    "    hdul_lc = fits.open(hdul_phot_file)\n",
    "    column_names = hdul_lc[1].data.dtype.names\n",
    "    \n",
    "    index_dict = {}\n",
    "    for i, col_name in enumerate(column_names):\n",
    "        index_dict[col_name] = i\n",
    "    \n",
    "    sn_names = [sn for sn in sn_dict.keys()]\n",
    "    for sn_name in sn_names:\n",
    "\n",
    "        # sn info\n",
    "        imin = sn_dict[sn_name]['PTROBS_MIN'] - 1\n",
    "        imax = sn_dict[sn_name]['PTROBS_MAX']\n",
    "        ra = sn_dict[sn_name]['RA']\n",
    "        dec = sn_dict[sn_name]['DEC']\n",
    "        z = sn_dict[sn_name]['REDSHIFT_FINAL']\n",
    "\n",
    "        sn_lc = hdul_lc[1].data[imin:imax]\n",
    "        sn_lc = np.array(list(set(sn_lc))).T  # turn tuplets into array\n",
    "\n",
    "        # turn the SN info into a pandas dataframe\n",
    "        lc_indexes = [i for i in index_dict.values()]\n",
    "        column_names = [name for name in index_dict.keys()]\n",
    "        lc_df = pd.DataFrame(data=sn_lc[lc_indexes].T, columns=column_names)\n",
    "        lc_df = lc_df.rename(columns={'MJD':'mjd', 'FLT':'band', 'FLUXCAL':'flux', 'FLUXCALERR':'flux_err'})\n",
    "\n",
    "        lc_df['zp'] = 27.5  # from SNANA manual / e.g., page 74\n",
    "        lc_df['mag_sys'] = mag_sys\n",
    "        \n",
    "        #############################\n",
    "        if 'lowz' in hdul_head_file.lower():\n",
    "            # use only the filters for the survey specified in the SUBSURVEY key\n",
    "            subsurvey = sn_dict[sn_name]['SUBSURVEY']\n",
    "            lc_df = lc_df[lc_df.band.isin(bands_dict[subsurvey])]  \n",
    "            for band in lc_df.band.unique():\n",
    "                lc_df.loc[lc_df.band==band, 'band'] = lowz_filters[band]\n",
    "            \n",
    "        elif 'sdss' in hdul_head_file.lower():\n",
    "            lc_df['band'] = 'sdss_' + lc_df['band'].astype(str)\n",
    "        elif 'snls' in hdul_head_file.lower():\n",
    "            lc_df['band'] = 'Megacam_' + lc_df['band'].astype(str)\n",
    "        elif 'ps1' in hdul_head_file.lower():\n",
    "            lc_df['band'] = 'ps1_' + lc_df['band'].astype(str)    \n",
    "        elif 'des' in hdul_head_file.lower():\n",
    "            lc_df['band'] = 'des_' + lc_df['band'].astype(str)\n",
    "        ##############################\n",
    "        lc_df[['flux', 'flux_err']] = lc_df[['flux', 'flux_err']].round(3)\n",
    "        \n",
    "        sn_file_name = f'data_simulations/{sn_name_prefix}{sn_name}.dat'\n",
    "        with open(sn_file_name, 'w') as file:\n",
    "            file.write('name z ra dec\\n')\n",
    "            file.write(f'{sn_name_prefix}{sn_name} {z:.5f} {ra:.3f} {dec:.3f} \\n')\n",
    "        lc_df[['mjd', 'flux', 'flux_err', 'zp', 'band', 'mag_sys']].to_csv(sn_file_name, index=False, sep=' ', mode='a')\n",
    "\n",
    "    print(f'{len(sn_names)} SNe extracted!')"
   ]
  },
  {
   "cell_type": "code",
   "execution_count": 4,
   "metadata": {},
   "outputs": [],
   "source": [
    "def print_sim_mags(hdul_head_file, sn_name, bands_list):\n",
    "    \n",
    "    lowz_filters = {'a':'4shooter2_U', 'b':'4shooter2_B', 'c':'4shooter2_V', 'd':'4shooter2_R', 'e':'4shooter2_I',\n",
    "                'f':'p1_U', 'g':'p1_B', 'h':'p1_V', 'i':'p1_r', 'j':'p1_i',\n",
    "                'k':'p1_U', 'l':'p1_B', 'm':'p1_V', 'n':'p1_r', 'o':'p1_i',\n",
    "                'p':'p2_B', 'q':'p2_V', 'r':'p2_r', 's':'p2_i',\n",
    "                't':'csp_u', 'u':'csp_B', 'v':'csp_o', 'w':'csp_m', \n",
    "                'x':'csp_n', 'y':'csp_g', 'z':'csp_r', 'A':'csp_i'}\n",
    "    \n",
    "    #if 'lowz' in hdul_head_file.lower():\n",
    "    #    bands_list = [lowz_filters[letter] for letter in bands_list]\n",
    "    \n",
    "    hdul_head = fits.open(hdul_head_file)\n",
    "    column_names = hdul_head[1].data.dtype.names\n",
    "    \n",
    "    index_dict = {}\n",
    "    for i, col_name in enumerate(column_names):\n",
    "        index_dict[col_name] = i\n",
    "\n",
    "    sn_dict = {}\n",
    "    for sn_info in hdul_head[1].data:\n",
    "        if sn_name == sn_info[index_dict['SNID']]:\n",
    "            sn_dict[sn_name] = {col_name:sn_info[index_dict[col_name]] for col_name in column_names}\n",
    "            \n",
    "    sim_params_df = pd.DataFrame.from_dict(sn_dict, 'index')#.sort_values('SNID')\n",
    "\n",
    "    print(f'SN: {sn_name}\\n')\n",
    "    for band in bands_list:\n",
    "        print(band, '=',sim_params_df[sim_params_df.SNID.astype(str)==sn_name][f'SIM_PEAKMAG_{band}'].values[0])"
   ]
  },
  {
   "cell_type": "code",
   "execution_count": 22,
   "metadata": {},
   "outputs": [],
   "source": [
    "def delete_files(prefix, cad):\n",
    "    \n",
    "    flist = [file for file in glob.glob(f'data_simulations/{prefix}{cad}dcad*')]\n",
    "    for f in flist:\n",
    "        os.remove(f)"
   ]
  },
  {
   "cell_type": "markdown",
   "metadata": {},
   "source": [
    "___\n",
    "# **Low-z**"
   ]
  },
  {
   "cell_type": "code",
   "execution_count": 36,
   "metadata": {},
   "outputs": [
    {
     "name": "stdout",
     "output_type": "stream",
     "text": [
      "487 SNe extracted!\n"
     ]
    }
   ],
   "source": [
    "#cadences = [1, 3, 5, 7]\n",
    "cadences = [3]\n",
    "\n",
    "for cad in cadences:\n",
    "    delete_files('lowz', cad)\n",
    "    hdul_head_file = f'/media/data1/muller/SNANA/SNDATA_ROOT/SIM/LOWZ_{cad}DCAD/LOWZ_{cad}DCAD_HEAD.FITS'\n",
    "    hdul_phot_file = f'/media/data1/muller/SNANA/SNDATA_ROOT/SIM/LOWZ_{cad}DCAD/LOWZ_{cad}DCAD_PHOT.FITS'\n",
    "    mag_sys = 'BD17'\n",
    "    sn_name_prefix = f'lowz{cad}dcad_'\n",
    "\n",
    "    extract_sample(hdul_head_file, hdul_phot_file, mag_sys, sn_name_prefix)"
   ]
  },
  {
   "cell_type": "code",
   "execution_count": 69,
   "metadata": {},
   "outputs": [
    {
     "name": "stdout",
     "output_type": "stream",
     "text": [
      "SN: 2022\n",
      "\n",
      "Simulated SALT2 params --- mb: 16.738, x1: -1.361, dm15: 1.553, c: -0.035, tmax: 54067.141\n",
      "Fitted SALT2 params    --- mb: 16.716, x1: -1.362, dm15: 1.554, c: -0.047, tmax: 54067.281\n"
     ]
    }
   ],
   "source": [
    "cad = 7\n",
    "hdul_head_file = f'/media/data1/muller/SNANA/SNDATA_ROOT/SIM/LOWZ_{cad}DCAD/LOWZ_{cad}DCAD_HEAD.FITS'\n",
    "fits_file = f'/media/data1/muller/SNANA/test/LOWZ/LOWZ_{cad}DCAD.FITRES.TEXT'\n",
    "sn_name = '2022'\n",
    "\n",
    "compare_salt2(hdul_head_file, fits_file, sn_name)"
   ]
  },
  {
   "cell_type": "raw",
   "metadata": {},
   "source": [
    "'a':'4shooter2_U', 'b':'4shooter2_B', 'c':'4shooter2_V', 'd':'4shooter2_R', 'e':'4shooter2_I',\n",
    "'f':'p1_U', 'g':'p1_B', 'h':'p1_V', 'i':'p1_r', 'j':'p1_i',\n",
    "'k':'p1_U', 'l':'p1_B', 'm':'p1_V', 'n':'p1_r', 'o':'p1_i',\n",
    "'p':'p2_B', 'q':'p2_V', 'r':'p2_r', 's':'p2_i',\n",
    "'t':'csp_u', 'u':'csp_B', 'v':'csp_o', 'w':'csp_m', \n",
    "'x':'csp_n', 'y':'csp_g', 'z':'csp_r', 'A':'csp_i'"
   ]
  },
  {
   "cell_type": "code",
   "execution_count": 70,
   "metadata": {},
   "outputs": [
    {
     "name": "stdout",
     "output_type": "stream",
     "text": [
      "SN: 2022\n",
      "\n",
      "f = 16.85140037536621\n",
      "g = 16.94891357421875\n",
      "h = 16.98889923095703\n",
      "i = 17.004911422729492\n",
      "j = 17.505456924438477\n",
      "SN: 2022\n",
      "\n",
      "k = -9.0\n",
      "l = -9.0\n",
      "m = -9.0\n",
      "n = -9.0\n",
      "o = -9.0\n"
     ]
    }
   ],
   "source": [
    "bands_list = ['f', 'g', 'h', 'i', 'j']\n",
    "print_sim_mags(hdul_head_file, sn_name, bands_list)\n",
    "bands_list = ['k', 'l', 'm', 'n', 'o']\n",
    "print_sim_mags(hdul_head_file, sn_name, bands_list)"
   ]
  },
  {
   "cell_type": "markdown",
   "metadata": {},
   "source": [
    "___\n",
    "# **SDSS**"
   ]
  },
  {
   "cell_type": "code",
   "execution_count": 9,
   "metadata": {},
   "outputs": [
    {
     "name": "stdout",
     "output_type": "stream",
     "text": [
      "Ready!\n"
     ]
    }
   ],
   "source": [
    "#cadences = [1, 3, 5, 7]\n",
    "cadences = [3]\n",
    "\n",
    "for cad in cadences:\n",
    "    delete_files('sdss', cad)\n",
    "    hdul_head_file = f'/media/data1/muller/SNANA/SNDATA_ROOT/SIM/SDSS_{cad}DCAD/SDSS_{cad}DCAD_HEAD.FITS'\n",
    "    hdul_phot_file = f'/media/data1/muller/SNANA/SNDATA_ROOT/SIM/SDSS_{cad}DCAD/SDSS_{cad}DCAD_PHOT.FITS'\n",
    "    mag_sys = 'AB'\n",
    "    sn_name_prefix = f'sdss{cad}dcad_'\n",
    "\n",
    "    extract_sample(hdul_head_file, hdul_phot_file, mag_sys, sn_name_prefix)"
   ]
  },
  {
   "cell_type": "code",
   "execution_count": 12,
   "metadata": {},
   "outputs": [
    {
     "name": "stdout",
     "output_type": "stream",
     "text": [
      "SN: 131\n",
      "\n",
      "Simulated SALT2 params --- mb: 19.527, x1: 2.027, dm15: 1.287, c: -0.406, tmax: 53652.469\n",
      "Fitted SALT2 params    --- mb: 19.542, x1: 2.211, dm15: 1.356, c: -0.399, tmax: 53652.695\n"
     ]
    }
   ],
   "source": [
    "cad = 7\n",
    "hdul_head_file = f'/media/data1/muller/SNANA/SNDATA_ROOT/SIM/SDSS_{cad}DCAD/SDSS_{cad}DCAD_HEAD.FITS'\n",
    "fits_file = f'/media/data1/muller/SNANA/test/SDSS/SDSS_{cad}DCAD.FITRES.TEXT'\n",
    "sn_name = '131'\n",
    "\n",
    "compare_salt2(hdul_head_file, fits_file, sn_name)"
   ]
  },
  {
   "cell_type": "code",
   "execution_count": 14,
   "metadata": {},
   "outputs": [
    {
     "name": "stdout",
     "output_type": "stream",
     "text": [
      "SN: 131\n",
      "\n",
      "g = 19.34642791748047\n",
      "r = 19.744794845581055\n",
      "i = 20.08390235900879\n"
     ]
    }
   ],
   "source": [
    "bands_list = ['g', 'r', 'i']\n",
    "print_sim_mags(hdul_head_file, sn_name, bands_list)"
   ]
  },
  {
   "cell_type": "markdown",
   "metadata": {},
   "source": [
    "___\n",
    "# **SNLS**"
   ]
  },
  {
   "cell_type": "code",
   "execution_count": 31,
   "metadata": {},
   "outputs": [
    {
     "name": "stdout",
     "output_type": "stream",
     "text": [
      "500 SNe extracted!\n"
     ]
    }
   ],
   "source": [
    "#cadences = [1, 3, 5, 7]\n",
    "cadences = [3]\n",
    "\n",
    "for cad in cadences:\n",
    "    delete_files('snls', cad)\n",
    "    hdul_head_file = f'/media/data1/muller/SNANA/SNDATA_ROOT/SIM/SNLS_{cad}DCAD/SNLS_{cad}DCAD_HEAD.FITS'\n",
    "    hdul_phot_file = f'/media/data1/muller/SNANA/SNDATA_ROOT/SIM/SNLS_{cad}DCAD/SNLS_{cad}DCAD_PHOT.FITS'\n",
    "    mag_sys = 'AB'\n",
    "    sn_name_prefix = f'snls{cad}dcad_'\n",
    "\n",
    "    extract_sample(hdul_head_file, hdul_phot_file, mag_sys, sn_name_prefix)"
   ]
  },
  {
   "cell_type": "code",
   "execution_count": 71,
   "metadata": {},
   "outputs": [
    {
     "name": "stdout",
     "output_type": "stream",
     "text": [
      "SN: 138\n",
      "\n",
      "Simulated SALT2 params --- mb: 20.161, x1: 3.588, dm15: 2.126, c: -0.413, tmax: 52910.148\n",
      "Fitted SALT2 params    --- mb: 20.163, x1: 3.592, dm15: 2.129, c: -0.413, tmax: 52910.180\n"
     ]
    }
   ],
   "source": [
    "cad = 7\n",
    "hdul_head_file = f'/media/data1/muller/SNANA/SNDATA_ROOT/SIM/SNLS_{cad}DCAD/SNLS_{cad}DCAD_HEAD.FITS'\n",
    "fits_file = f'/media/data1/muller/SNANA/test/SNLS/SNLS_{cad}DCAD.FITRES.TEXT'\n",
    "sn_name = '138'\n",
    "\n",
    "compare_salt2(hdul_head_file, fits_file, sn_name)"
   ]
  },
  {
   "cell_type": "code",
   "execution_count": 19,
   "metadata": {},
   "outputs": [
    {
     "name": "stdout",
     "output_type": "stream",
     "text": [
      "SN: 57299\n",
      "\n",
      "g = 19.904033660888672\n",
      "r = 20.018156051635742\n",
      "i = 20.180217742919922\n",
      "z = -9.0\n"
     ]
    }
   ],
   "source": [
    "bands_list = ['g', 'r', 'i', 'z']\n",
    "print_sim_mags(hdul_head_file, sn_name, bands_list)"
   ]
  },
  {
   "cell_type": "markdown",
   "metadata": {},
   "source": [
    "___\n",
    "# **PS1**"
   ]
  },
  {
   "cell_type": "code",
   "execution_count": 32,
   "metadata": {},
   "outputs": [
    {
     "name": "stdout",
     "output_type": "stream",
     "text": [
      "550 SNe extracted!\n"
     ]
    }
   ],
   "source": [
    "#cadences = [1, 3, 5, 7]\n",
    "cadences = [3]\n",
    "\n",
    "for cad in cadences:\n",
    "    delete_files('ps1', cad)\n",
    "    hdul_head_file = f'/media/data1/muller/SNANA/SNDATA_ROOT/SIM/PS1_{cad}DCAD/PS1_{cad}DCAD_HEAD.FITS'\n",
    "    hdul_phot_file = f'/media/data1/muller/SNANA/SNDATA_ROOT/SIM/PS1_{cad}DCAD/PS1_{cad}DCAD_PHOT.FITS'\n",
    "    mag_sys = 'AB'\n",
    "    sn_name_prefix = f'ps1{cad}dcad_'\n",
    "\n",
    "    extract_sample(hdul_head_file, hdul_phot_file, mag_sys, sn_name_prefix)"
   ]
  },
  {
   "cell_type": "code",
   "execution_count": 32,
   "metadata": {},
   "outputs": [
    {
     "name": "stdout",
     "output_type": "stream",
     "text": [
      "SN: 88\n",
      "\n",
      "Simulated SALT2 params --- mb: 23.658, x1: -0.505, dm15: 1.205, c: -0.026, tmax: 55805.473\n",
      "Fitted SALT2 params    --- mb: 23.680, x1: -1.090, dm15: 1.422, c: -0.038, tmax: 55807.641\n"
     ]
    }
   ],
   "source": [
    "cad = 7\n",
    "hdul_head_file = f'/media/data1/muller/SNANA/SNDATA_ROOT/SIM/PS1_{cad}DCAD/PS1_{cad}DCAD_HEAD.FITS'\n",
    "fits_file = f'/media/data1/muller/SNANA/test/PS1/PS1_{cad}DCAD.FITRES.TEXT'\n",
    "sn_name = '88'\n",
    "\n",
    "compare_salt2(hdul_head_file, fits_file, sn_name)"
   ]
  },
  {
   "cell_type": "code",
   "execution_count": 33,
   "metadata": {},
   "outputs": [
    {
     "name": "stdout",
     "output_type": "stream",
     "text": [
      "SN: 88\n",
      "\n",
      "g = 25.13889503479004\n",
      "r = 23.587730407714844\n",
      "i = 23.315210342407227\n",
      "z = 23.416765213012695\n"
     ]
    }
   ],
   "source": [
    "bands_list = ['g', 'r', 'i', 'z']\n",
    "print_sim_mags(hdul_head_file, sn_name, bands_list)"
   ]
  },
  {
   "cell_type": "markdown",
   "metadata": {},
   "source": [
    "___\n",
    "___\n",
    "___"
   ]
  },
  {
   "cell_type": "code",
   "execution_count": 75,
   "metadata": {},
   "outputs": [
    {
     "data": {
      "text/plain": [
       "(('Filter Name',\n",
       "  'Primary Name',\n",
       "  'Primary Mag',\n",
       "  'ZPoff(Primary)',\n",
       "  'ZPoff(SNpot)'),\n",
       " FITS_rec([('CFHT-g', 'BD17', 9.7174,  0.1161719 , 0.),\n",
       "           ('CFHT-r', 'BD17', 9.224 , -0.12163895, 0.),\n",
       "           ('CFHT-i', 'BD17', 8.905 , -0.3475831 , 0.),\n",
       "           ('CFHT-z', 'BD17', 8.7543, -0.48531947, 0.),\n",
       "           ('Bessell-U', 'BD17', 9.724 , -0.75665027, 0.),\n",
       "           ('Bessell-B', 'BD17', 9.907 ,  0.13407062, 0.),\n",
       "           ('Bessell-V', 'BD17', 9.464 ,  0.014176  , 0.),\n",
       "           ('Bessell-R', 'BD17', 9.166 , -0.15989093, 0.),\n",
       "           ('Bessell-I', 'BD17', 8.846 , -0.39927658, 0.),\n",
       "           ('Bessell-BX', 'BD17', 9.907 ,  0.14380072, 0.)],\n",
       "          dtype=(numpy.record, [('Filter Name', 'S20'), ('Primary Name', 'S20'), ('Primary Mag', '>f4'), ('ZPoff(Primary)', '>f4'), ('ZPoff(SNpot)', '>f4')])))"
      ]
     },
     "execution_count": 75,
     "metadata": {},
     "output_type": "execute_result"
    }
   ],
   "source": [
    "\n",
    "hdul_head_file = f'/media/data1/muller/SNANA/SNDATA_ROOT/kcor/SDSS/SNCOSM09+fitsFormat/kcor_SNLS_Bessell90_BD17.fits.gz'\n",
    "\n",
    "hdul_head = fits.open(hdul_head_file)\n",
    "column_names = hdul_head[1].data.dtype.names\n",
    "column_names, hdul_head[1].data"
   ]
  },
  {
   "cell_type": "code",
   "execution_count": null,
   "metadata": {},
   "outputs": [],
   "source": []
  }
 ],
 "metadata": {
  "kernelspec": {
   "display_name": "Python 3",
   "language": "python",
   "name": "python3"
  },
  "language_info": {
   "codemirror_mode": {
    "name": "ipython",
    "version": 3
   },
   "file_extension": ".py",
   "mimetype": "text/x-python",
   "name": "python",
   "nbconvert_exporter": "python",
   "pygments_lexer": "ipython3",
   "version": "3.8.0"
  }
 },
 "nbformat": 4,
 "nbformat_minor": 4
}
