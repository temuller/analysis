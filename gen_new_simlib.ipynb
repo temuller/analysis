{
 "cells": [
  {
   "cell_type": "markdown",
   "metadata": {},
   "source": [
    "# Gen New SIMLIB\n",
    "\n",
    "Generate a new SIMLIB file for SNANA from an existing one with a chosen cadence.\n",
    "\n",
    "Given that the data is taken from real surveys, all the information regarding the sky and filters (noise, signal, psf, etc.) are given at some exact epochs, so, in order to generate new observations in \"non-existing\" epochs, I randomly select the values from existing ones."
   ]
  },
  {
   "cell_type": "code",
   "execution_count": 2,
   "metadata": {},
   "outputs": [],
   "source": [
    "import pandas as pd\n",
    "import numpy as np\n",
    "import random\n",
    "import glob\n",
    "import os"
   ]
  },
  {
   "cell_type": "code",
   "execution_count": 3,
   "metadata": {},
   "outputs": [],
   "source": [
    "def generate_simlib(simlib_file, output_file, cad=5, nlibs=None,\n",
    "                        add_uncertainty=False, xunc=None, \n",
    "                            add_randomness=False, err=None):\n",
    "    \n",
    "    start_indexes = []\n",
    "    end_indexes = []\n",
    "    lib_list = []\n",
    "\n",
    "    # Some SIMLIB files might have encoding errors. \n",
    "    # By ignoring them there could be some data loss.\n",
    "    with open(simlib_file, errors='ignore') as file:\n",
    "        for i, line in enumerate(file):\n",
    "            if 'LIBID:' in line.split():\n",
    "                start_indexes.append(i)\n",
    "                lib_list.append(line.split()[1])\n",
    "            if 'END_LIBID:' in line.split():\n",
    "                end_indexes.append(i)\n",
    "    \n",
    "    ##########################################################################\n",
    "    \n",
    "    sim_dict = {'libid_'+lib:None for lib in lib_list}\n",
    "    nobs_dict = {'libid_'+lib:None for lib in lib_list}\n",
    "\n",
    "    #### LIB dataframe ####\n",
    "    if nlibs is None:\n",
    "        nlibs = len(lib_list)  # all libs\n",
    "    \n",
    "    for i in range(nlibs):\n",
    "        # select indexes of SN LIB\n",
    "        header_lines = 4\n",
    "        tail_lines = 1\n",
    "        if 'lowz' in simlib_file.lower():\n",
    "            tail_lines = 2\n",
    "        skiprows = start_indexes[i] + header_lines\n",
    "        nrows = (end_indexes[i] - start_indexes[i]) - (header_lines + tail_lines)\n",
    "        names = ['S', 'MJD', 'IDUM', 'BAND', 'GAIN', 'RDNOISE', 'SKYSIG', \n",
    "                 'PSF1', 'PSF2', 'PSFRAT', 'ZP', 'ZPERR', 'MAG']\n",
    "        sim_df = pd.read_csv(simlib_file, names=names, skiprows=skiprows, nrows=nrows, comment='#', delim_whitespace=True)\n",
    "        sim_df = sim_df.dropna(axis='index')  # some simlib files have SNe with data from 2 fields(?)\n",
    "        \n",
    "        new_sim_df = pd.DataFrame(columns=names)\n",
    "\n",
    "        ##### pick cadence ####\n",
    "        min_mjd = np.trunc(float(sim_df.MJD.min()))\n",
    "        max_mjd = np.trunc(float(sim_df.MJD.max()))\n",
    "        mjd_arrange = np.arange(min_mjd, max_mjd + cad, cad)\n",
    "        nobs = len(mjd_arrange) * len(sim_df.BAND.unique())  # includes all bands\n",
    "        nobs_dict['libid_'+lib_list[i]] = nobs\n",
    "\n",
    "        # add randomness to the cadence\n",
    "        if add_randomness:\n",
    "            mjd_arrange = np.asarray([mjd + random.randint(-err, err) for mjd in mjd_arrange])\n",
    "\n",
    "        # increase uncertainty\n",
    "        if add_uncertainty:\n",
    "            sim_df.SKYSIG = sim_df.SKYSIG.values*xunc\n",
    "\n",
    "        ##### create new observations #####\n",
    "        idum = 1\n",
    "        for band in sim_df.BAND.unique():\n",
    "            band_df = sim_df[sim_df.BAND.values==band]\n",
    "\n",
    "            for mjd in mjd_arrange:\n",
    "                ind = random.randint(0, len(band_df)-1)  # pick random epoch properties\n",
    "                new_row = band_df.iloc[ind].copy()\n",
    "                new_row.MJD = mjd\n",
    "                new_row.IDUM = idum\n",
    "                new_sim_df = new_sim_df.append(new_row)\n",
    "                idum += 1\n",
    "\n",
    "        # save dataframe\n",
    "        lib = lib_list[i]\n",
    "        sim_dict['libid_'+lib] = new_sim_df\n",
    "\n",
    "    ##########################################################################\n",
    "    #### write output file ####  \n",
    "    with open(simlib_file, \"rt\", errors='ignore') as fin:\n",
    "        with open(output_file, \"wt\") as fout:\n",
    "            for i, line in enumerate(fin):\n",
    "                \n",
    "                if i <= end_indexes[nlibs-1] or i > end_indexes[-1]:\n",
    "                    # modify number of observations\n",
    "                    if 'LIBID:' in line.split():\n",
    "                        libid = line.split()[1]\n",
    "                        if libid in lib_list:\n",
    "                            nobs = nobs_dict['libid_'+libid]\n",
    "                    elif 'NOBS:' in line.split():\n",
    "                        splitted_line = line.split()\n",
    "                        nobs_index = splitted_line.index('NOBS:')\n",
    "                        splitted_line[nobs_index+1] = str(nobs)\n",
    "                        line = '   '.join(splitted_line) + '\\n'\n",
    "                        \n",
    "                    elif 'NOBS:' in line.split():\n",
    "                        splitted_line = line.split()\n",
    "                        nobs_index = splitted_line.index('NOBS:')\n",
    "                        splitted_line[nobs_index+1] = str(nobs)\n",
    "                        line = '   '.join(splitted_line) + '\\n'\n",
    "\n",
    "                    # skip lines starting with 'S:', i.e., the ones with the observations info\n",
    "                    elif 'S:' in line.split():\n",
    "                        continue  \n",
    "\n",
    "                    # write dataframe to file\n",
    "                    elif 'END_LIBID:' in line.split():\n",
    "                        libid = line.split()[-1]\n",
    "                        if libid in lib_list:\n",
    "                            sim_df = sim_dict['libid_'+str(libid)]\n",
    "                            sim_df[names].to_csv(output_file, index=False, sep=' ', mode='a', header=False)\n",
    "                            for df_vals in sim_df.values:\n",
    "                                row = [str(val) for val in df_vals]\n",
    "                                new_line = ' '.join(row)\n",
    "                                fout.write(new_line)\n",
    "                                fout.write('\\n')\n",
    "\n",
    "                    fout.write(line)\n",
    "        print(f'Ready!')"
   ]
  },
  {
   "cell_type": "code",
   "execution_count": 5,
   "metadata": {},
   "outputs": [
    {
     "name": "stdout",
     "output_type": "stream",
     "text": [
      "Ready!\n",
      "Ready!\n",
      "Ready!\n",
      "Ready!\n"
     ]
    }
   ],
   "source": [
    "#lowz  - 430 libs\n",
    "cadences = [1, 3, 5, 7]\n",
    "\n",
    "for cad in cadences:\n",
    "    simlib_file = '/media/data1/muller/SNANA/test/LOWZ/PS1_LOWZ_COMBINED.SIMLIB'\n",
    "    output_file = f'/media/data1/muller/SNANA/test/LOWZ/LOWZ_{cad}DCAD.SIMLIB'\n",
    "    generate_simlib(simlib_file, output_file, cad=cad)"
   ]
  },
  {
   "cell_type": "code",
   "execution_count": 4,
   "metadata": {},
   "outputs": [
    {
     "name": "stdout",
     "output_type": "stream",
     "text": [
      "Ready!\n",
      "Ready!\n",
      "Ready!\n",
      "Ready!\n"
     ]
    }
   ],
   "source": [
    "#sdss  - 2000 libs\n",
    "cadences = [1, 3, 5, 7]\n",
    "\n",
    "for cad in cadences:\n",
    "    simlib_file = '/media/data1/muller/SNANA/test/SDSS/SDSS_3year.SIMLIB'\n",
    "    output_file = f'/media/data1/muller/SNANA/test/SDSS/SDSS_{cad}DCAD.SIMLIB'\n",
    "    generate_simlib(simlib_file, output_file, cad=cad, nlibs=500)"
   ]
  },
  {
   "cell_type": "code",
   "execution_count": 27,
   "metadata": {},
   "outputs": [
    {
     "name": "stdout",
     "output_type": "stream",
     "text": [
      "Ready!\n"
     ]
    }
   ],
   "source": [
    "#snls  - 69 libs\n",
    "cadences = [1, 3, 5, 7]\n",
    "\n",
    "for cad in cadences:\n",
    "    simlib_file = '/media/data1/muller/SNANA/test/SNLS/SNLS_Ast06.SIMLIB.COADD'\n",
    "    output_file = f'/media/data1/muller/SNANA/test/SNLS/SNLS_{cad}DCAD.SIMLIB'\n",
    "    generate_simlib(simlib_file, output_file, cad=cad)"
   ]
  },
  {
   "cell_type": "code",
   "execution_count": 28,
   "metadata": {},
   "outputs": [
    {
     "name": "stdout",
     "output_type": "stream",
     "text": [
      "Ready!\n"
     ]
    }
   ],
   "source": [
    "#ps1MD  - 10 libs\n",
    "cadences = [1, 3, 5, 7]\n",
    "\n",
    "for cad in cadences:\n",
    "    simlib_file = '/media/data1/muller/SNANA/test/PS1/PS1MD.simlib'\n",
    "    output_file = f'/media/data1/muller/SNANA/test/PS1/PS1_{cad}DCAD.SIMLIB'\n",
    "    generate_simlib(simlib_file, output_file, cad=cad, add_uncertainty=True, xunc=0.2)"
   ]
  },
  {
   "cell_type": "code",
   "execution_count": null,
   "metadata": {},
   "outputs": [],
   "source": []
  }
 ],
 "metadata": {
  "kernelspec": {
   "display_name": "Python 3",
   "language": "python",
   "name": "python3"
  },
  "language_info": {
   "codemirror_mode": {
    "name": "ipython",
    "version": 3
   },
   "file_extension": ".py",
   "mimetype": "text/x-python",
   "name": "python",
   "nbconvert_exporter": "python",
   "pygments_lexer": "ipython3",
   "version": "3.8.0"
  }
 },
 "nbformat": 4,
 "nbformat_minor": 4
}
