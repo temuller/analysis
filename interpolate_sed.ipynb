{
 "cells": [
  {
   "cell_type": "markdown",
   "metadata": {},
   "source": [
    "# SED Interpolation\n",
    "\n",
    "Here I interpolate the SED linearly to have a time step of 0.5 day instead of 1 day.\n",
    "\n",
    "__Note:__ I round the fluxes at some point for visualization purposes, i.e., to deal with the anoying large decimals returned by python, so check the flux scaled of the SED you are using."
   ]
  },
  {
   "cell_type": "code",
   "execution_count": 70,
   "metadata": {},
   "outputs": [
    {
     "data": {
      "text/html": [
       "<div>\n",
       "<style>\n",
       "    .dataframe thead tr:only-child th {\n",
       "        text-align: right;\n",
       "    }\n",
       "\n",
       "    .dataframe thead th {\n",
       "        text-align: left;\n",
       "    }\n",
       "\n",
       "    .dataframe tbody tr th {\n",
       "        vertical-align: top;\n",
       "    }\n",
       "</style>\n",
       "<table border=\"1\" class=\"dataframe\">\n",
       "  <thead>\n",
       "    <tr style=\"text-align: right;\">\n",
       "      <th></th>\n",
       "      <th>phase</th>\n",
       "      <th>wave</th>\n",
       "      <th>flux</th>\n",
       "    </tr>\n",
       "  </thead>\n",
       "  <tbody>\n",
       "    <tr>\n",
       "      <th>0</th>\n",
       "      <td>-20.0</td>\n",
       "      <td>1000.0</td>\n",
       "      <td>3.533845e-38</td>\n",
       "    </tr>\n",
       "    <tr>\n",
       "      <th>1</th>\n",
       "      <td>-20.0</td>\n",
       "      <td>1010.0</td>\n",
       "      <td>3.533845e-38</td>\n",
       "    </tr>\n",
       "    <tr>\n",
       "      <th>2</th>\n",
       "      <td>-20.0</td>\n",
       "      <td>1020.0</td>\n",
       "      <td>3.533845e-38</td>\n",
       "    </tr>\n",
       "  </tbody>\n",
       "</table>\n",
       "</div>"
      ],
      "text/plain": [
       "   phase    wave          flux\n",
       "0  -20.0  1000.0  3.533845e-38\n",
       "1  -20.0  1010.0  3.533845e-38\n",
       "2  -20.0  1020.0  3.533845e-38"
      ]
     },
     "execution_count": 70,
     "metadata": {},
     "output_type": "execute_result"
    }
   ],
   "source": [
    "import numpy as np\n",
    "import pandas as pd\n",
    "\n",
    "sed_info = pd.read_csv('templates/conley09f/snflux_1a.dat', names=['phase', 'wave', 'flux'], delim_whitespace=True)\n",
    "phases, waves, fluxes = [sed_info.phase.values, sed_info.wave.values, sed_info.flux.values]\n",
    "sed_info.head(3)"
   ]
  },
  {
   "cell_type": "code",
   "execution_count": 71,
   "metadata": {},
   "outputs": [],
   "source": [
    "time_step = 0.5\n",
    "interp_phases = np.arange(sed_info.phase.min(), sed_info.phase.max()+time_step, time_step)"
   ]
  },
  {
   "cell_type": "code",
   "execution_count": 72,
   "metadata": {},
   "outputs": [],
   "source": [
    "sed_dict = {'phase':np.empty(0), 'wave':np.empty(0), 'flux':np.empty(0)}\n",
    "\n",
    "for wave in sed_info.wave.unique():\n",
    "    sed = sed_info[sed_info.wave.values==wave]\n",
    "    interp_flux = np.interp(interp_phases, sed.phase.values, sed.flux.values)\n",
    "    \n",
    "    sed_dict['phase'] = np.r_[sed_dict['phase'], interp_phases]\n",
    "    sed_dict['flux'] = np.r_[sed_dict['flux'], interp_flux]\n",
    "    sed_dict['wave'] = np.r_[sed_dict['wave'], [wave]*len(interp_phases)]"
   ]
  },
  {
   "cell_type": "code",
   "execution_count": 81,
   "metadata": {},
   "outputs": [
    {
     "data": {
      "text/html": [
       "<div>\n",
       "<style>\n",
       "    .dataframe thead tr:only-child th {\n",
       "        text-align: right;\n",
       "    }\n",
       "\n",
       "    .dataframe thead th {\n",
       "        text-align: left;\n",
       "    }\n",
       "\n",
       "    .dataframe tbody tr th {\n",
       "        vertical-align: top;\n",
       "    }\n",
       "</style>\n",
       "<table border=\"1\" class=\"dataframe\">\n",
       "  <thead>\n",
       "    <tr style=\"text-align: right;\">\n",
       "      <th></th>\n",
       "      <th>phase</th>\n",
       "      <th>wave</th>\n",
       "      <th>flux</th>\n",
       "    </tr>\n",
       "  </thead>\n",
       "  <tbody>\n",
       "    <tr>\n",
       "      <th>2294</th>\n",
       "      <td>-20.0</td>\n",
       "      <td>23940.0</td>\n",
       "      <td>3.533703e-38</td>\n",
       "    </tr>\n",
       "  </tbody>\n",
       "</table>\n",
       "</div>"
      ],
      "text/plain": [
       "      phase     wave          flux\n",
       "2294  -20.0  23940.0  3.533703e-38"
      ]
     },
     "execution_count": 81,
     "metadata": {},
     "output_type": "execute_result"
    }
   ],
   "source": [
    "sed"
   ]
  },
  {
   "cell_type": "code",
   "execution_count": 104,
   "metadata": {},
   "outputs": [
    {
     "data": {
      "text/html": [
       "<div>\n",
       "<style>\n",
       "    .dataframe thead tr:only-child th {\n",
       "        text-align: right;\n",
       "    }\n",
       "\n",
       "    .dataframe thead th {\n",
       "        text-align: left;\n",
       "    }\n",
       "\n",
       "    .dataframe tbody tr th {\n",
       "        vertical-align: top;\n",
       "    }\n",
       "</style>\n",
       "<table border=\"1\" class=\"dataframe\">\n",
       "  <thead>\n",
       "    <tr style=\"text-align: right;\">\n",
       "      <th></th>\n",
       "      <th>phase</th>\n",
       "      <th>wave</th>\n",
       "      <th>flux</th>\n",
       "    </tr>\n",
       "  </thead>\n",
       "  <tbody>\n",
       "    <tr>\n",
       "      <th>0</th>\n",
       "      <td>-20.0</td>\n",
       "      <td>1000.0</td>\n",
       "      <td>3.533845e-38</td>\n",
       "    </tr>\n",
       "    <tr>\n",
       "      <th>211</th>\n",
       "      <td>-20.0</td>\n",
       "      <td>1010.0</td>\n",
       "      <td>3.533845e-38</td>\n",
       "    </tr>\n",
       "    <tr>\n",
       "      <th>422</th>\n",
       "      <td>-20.0</td>\n",
       "      <td>1020.0</td>\n",
       "      <td>3.533845e-38</td>\n",
       "    </tr>\n",
       "    <tr>\n",
       "      <th>633</th>\n",
       "      <td>-20.0</td>\n",
       "      <td>1030.0</td>\n",
       "      <td>3.533845e-38</td>\n",
       "    </tr>\n",
       "    <tr>\n",
       "      <th>844</th>\n",
       "      <td>-20.0</td>\n",
       "      <td>1040.0</td>\n",
       "      <td>3.533845e-38</td>\n",
       "    </tr>\n",
       "  </tbody>\n",
       "</table>\n",
       "</div>"
      ],
      "text/plain": [
       "     phase    wave          flux\n",
       "0    -20.0  1000.0  3.533845e-38\n",
       "211  -20.0  1010.0  3.533845e-38\n",
       "422  -20.0  1020.0  3.533845e-38\n",
       "633  -20.0  1030.0  3.533845e-38\n",
       "844  -20.0  1040.0  3.533845e-38"
      ]
     },
     "execution_count": 104,
     "metadata": {},
     "output_type": "execute_result"
    }
   ],
   "source": [
    "sed_df = pd.DataFrame.from_dict(sed_dict)\n",
    "sed_df = sed_df[['phase', 'wave', 'flux']]\n",
    "sed_df = sed_df.sort_values(by=['phase', 'wave'])\n",
    "sed_df.flux = sed_df.flux.round(45)  # for visualization purposes\n",
    "sed_df.head()"
   ]
  },
  {
   "cell_type": "code",
   "execution_count": 105,
   "metadata": {},
   "outputs": [
    {
     "data": {
      "image/png": "[encoded data removed]",
      "text/plain": [
       "<Figure size 432x288 with 1 Axes>"
      ]
     },
     "metadata": {
      "needs_background": "light"
     },
     "output_type": "display_data"
    }
   ],
   "source": [
    "import matplotlib.pyplot as plt\n",
    "\n",
    "orig_data = sed_info[sed_info.phase.values==0.0]\n",
    "orig_waves, orig_fluxes = [orig_data.wave.values, orig_data.flux.values]\n",
    "\n",
    "data = sed_df[sed_df.phase.values==0.0]\n",
    "waves, fluxes = [data.wave.values, data.flux.values]\n",
    "plt.plot(waves, fluxes, label='interpolated sed')\n",
    "plt.plot(orig_waves, orig_fluxes, label='initial sed')\n",
    "#plt.plot(orig_waves, fluxes[:-1]-orig_fluxes)\n",
    "plt.legend();"
   ]
  },
  {
   "cell_type": "code",
   "execution_count": 106,
   "metadata": {},
   "outputs": [],
   "source": [
    "sed_df.to_csv('templates/conley09f/snflux_1av2.dat', sep='\\t', index=False, header=False)"
   ]
  },
  {
   "cell_type": "code",
   "execution_count": null,
   "metadata": {},
   "outputs": [],
   "source": []
  },
  {
   "cell_type": "code",
   "execution_count": null,
   "metadata": {},
   "outputs": [],
   "source": []
  },
  {
   "cell_type": "code",
   "execution_count": 14,
   "metadata": {},
   "outputs": [
    {
     "data": {
      "text/html": [
       "<div>\n",
       "<style scoped>\n",
       "    .dataframe tbody tr th:only-of-type {\n",
       "        vertical-align: middle;\n",
       "    }\n",
       "\n",
       "    .dataframe tbody tr th {\n",
       "        vertical-align: top;\n",
       "    }\n",
       "\n",
       "    .dataframe thead th {\n",
       "        text-align: right;\n",
       "    }\n",
       "</style>\n",
       "<table border=\"1\" class=\"dataframe\">\n",
       "  <thead>\n",
       "    <tr style=\"text-align: right;\">\n",
       "      <th></th>\n",
       "      <th>phase</th>\n",
       "      <th>wave</th>\n",
       "      <th>flux</th>\n",
       "    </tr>\n",
       "  </thead>\n",
       "  <tbody>\n",
       "    <tr>\n",
       "      <th>49420</th>\n",
       "      <td>0.0</td>\n",
       "      <td>300.0</td>\n",
       "      <td>0.0</td>\n",
       "    </tr>\n",
       "    <tr>\n",
       "      <th>49421</th>\n",
       "      <td>0.0</td>\n",
       "      <td>310.0</td>\n",
       "      <td>0.0</td>\n",
       "    </tr>\n",
       "    <tr>\n",
       "      <th>49422</th>\n",
       "      <td>0.0</td>\n",
       "      <td>320.0</td>\n",
       "      <td>0.0</td>\n",
       "    </tr>\n",
       "  </tbody>\n",
       "</table>\n",
       "</div>"
      ],
      "text/plain": [
       "       phase   wave  flux\n",
       "49420    0.0  300.0   0.0\n",
       "49421    0.0  310.0   0.0\n",
       "49422    0.0  320.0   0.0"
      ]
     },
     "execution_count": 14,
     "metadata": {},
     "output_type": "execute_result"
    }
   ],
   "source": [
    "import numpy as np\n",
    "import pandas as pd\n",
    "import piscola as pisco\n",
    "\n",
    "sed_info = pd.read_csv('../piscola/src/piscola/templates/jla/snflux_1a.dat', names=['phase', 'wave', 'flux'], delim_whitespace=True)\n",
    "sed_info = sed_info[sed_info.phase==0]\n",
    "phases, waves, fluxes = [sed_info.phase.values, sed_info.wave.values, sed_info.flux.values]\n",
    "sed_info.head(3)\n",
    "\n",
    "sed_info0 = pd.read_csv('../../SNANA/SNDATA_ROOT/snsed/Hsiao07.extrap.dat', names=['phase', 'wave', 'flux'], delim_whitespace=True)\n",
    "sed_info0 = sed_info0[sed_info0.phase==0]\n",
    "phases0, waves0, fluxes0 = [sed_info0.phase.values, sed_info0.wave.values, sed_info0.flux.values]\n",
    "sed_info0.head(3)"
   ]
  },
  {
   "cell_type": "code",
   "execution_count": 15,
   "metadata": {},
   "outputs": [
    {
     "data": {
      "image/png": "[encoded data removed]",
      "text/plain": [
       "<Figure size 432x288 with 1 Axes>"
      ]
     },
     "metadata": {
      "needs_background": "light"
     },
     "output_type": "display_data"
    }
   ],
   "source": [
    "import matplotlib.pyplot as plt\n",
    "\n",
    "plt.plot(waves, fluxes/fluxes.max())\n",
    "plt.plot(waves0, fluxes0/fluxes0.max());"
   ]
  },
  {
   "cell_type": "code",
   "execution_count": 16,
   "metadata": {},
   "outputs": [],
   "source": [
    "bwave, bflux = np.loadtxt('../piscola/src/piscola/filters/Bessell/Bessell_B.dat').T"
   ]
  },
  {
   "cell_type": "code",
   "execution_count": 17,
   "metadata": {},
   "outputs": [],
   "source": [
    "f = pisco.run_filter(waves, fluxes/fluxes.max(), bwave, bflux)\n",
    "f0 = pisco.run_filter(waves0, fluxes0/fluxes0.max(), bwave, bflux)"
   ]
  },
  {
   "cell_type": "code",
   "execution_count": 18,
   "metadata": {},
   "outputs": [
    {
     "data": {
      "text/plain": [
       "-0.060671021334457856"
      ]
     },
     "execution_count": 18,
     "metadata": {},
     "output_type": "execute_result"
    }
   ],
   "source": [
    "-2.5*np.log10(f/f0)"
   ]
  },
  {
   "cell_type": "code",
   "execution_count": 23,
   "metadata": {},
   "outputs": [
    {
     "name": "stdout",
     "output_type": "stream",
     "text": [
      "Best-fitting slope =  -0.10304347826086957\n",
      "Chi^2 =  2.733468048346203\n",
      "Reduced Chi^2 = 0.39049543547802895\n"
     ]
    },
    {
     "data": {
      "image/png": "[encoded data removed]",
      "text/plain": [
       "<Figure size 1080x720 with 1 Axes>"
      ]
     },
     "metadata": {
      "needs_background": "light"
     },
     "output_type": "display_data"
    }
   ],
   "source": [
    " from matplotlib import pyplot as plt\n",
    "import numpy as np\n",
    "import scipy.optimize as opt\n",
    "import pylab\n",
    "\n",
    "#I disgarded one of the data points as it was a clear outlier and would have affected my chi squared\n",
    "d_error=np.array([0.18,0.16,0.2,0.18,0.29,0.15,0.18,0.23,0.19])\n",
    "A_error=np.array([0.03,0.05,0.03,0.1,0.04,0.03,0.06,0.06,0.08])\n",
    "d=1000/(np.array([2.78,3.14,2.28,3.00,2.13,3.66,2.81,1.90,2.40 ]))\n",
    "m=np.array([3.911,3.751,4.667,4.556,5.743,3.960,5.372,5.752,5.464])\n",
    "A=np.array([0.06,0.25,0.37,0.58,0.67,0.23,0.64,0.34,0.20])\n",
    "P=np.array([10.15073,9.842425,7.594904,7.012877,5.77338,5.36627,4.470916,4.435462,3.72819])\n",
    "M=m-5.0*np.log10(d)-5+A\n",
    "x=np.log10(P)\n",
    "plt.xlabel('Log(P)')\n",
    "plt.ylabel('M')\n",
    "plt.title('period luminosity relation')\n",
    "plt.plot(M, x ,color='red', marker='o', markersize=5, linestyle=\"None\")          \n",
    "pylab.rcParams['figure.figsize'] = (15.0, 10.0)\n",
    "#turn interactive plotting mode on\n",
    "plt.ioff()\n",
    "y=M\n",
    "#a=starting slope\n",
    "#b=starting intercept  \n",
    "def func(x,a,b):\n",
    "    \"\"\"calculates the model\"\"\"\n",
    "    equation= b + a*x\n",
    "    return equation\n",
    "#y_m is the predicted y values according to the chi squared distribution\n",
    "def chisq(y, sig_y, y_m):\n",
    "    \"\"\"takes model, data and error vectors and calculates the chi2\"\"\"\n",
    "    chi2 = np.sum(((y-y_m)**2.0)/(sig_y**2.0))\n",
    "    return chi2\n",
    "\n",
    "\n",
    "\n",
    "#I estimated the slope and intercept on the graph itself. This code was adapted from lesson 14 in the workbook\n",
    "a=-237/2300\n",
    "b=1.18\n",
    "sigma=(d_error)**2*(-5/d)**2+(A_error)**2\n",
    "y_m = a*x + b\n",
    "#set up the sigmas as a 1-D vector of the same size as x and y\n",
    "sig_y = x*0 + sigma\n",
    "err_y = np.random.normal(0.0, sig_y, x.size)\n",
    "y = y_m + err_y\n",
    "dof = len(x)-2.0 #the number of degrees of freedom M=N-M number of data points-number of parameters\n",
    "\n",
    "p0=None\n",
    "\n",
    "\n",
    "#now I find the best model with curve_fit\n",
    "#start_slope = -237/2300\n",
    "#start_intercept=1.18 #this is my starting parameters for the LM algorithm\n",
    "best_parameters, rough = opt.curve_fit(func,x, y, sigma=sig_y,p0=(a,b), absolute_sigma=True)\n",
    "\n",
    "#I now calculated the minimum chi squared\n",
    "best_slope=a\n",
    "best_intercept=b\n",
    "y_best=func(x, best_parameters[0], best_parameters[1])\n",
    "best_parameters[0]=best_slope\n",
    "best_parameters[1]=best_intercept\n",
    "best_chi= np.sum(((y-y_best)**2.0)/(sig_y**2.0))\n",
    "\n",
    "\n",
    "#plt.plot(x,y_best,color=\"red\", linewidth=2)\n",
    "#plt.errorbar(x, y_best, sig_y, color=\"red\", linewidth=2, linestyle=\"None\")\n",
    "\n",
    "\n",
    "print('Best-fitting slope = ', a)\n",
    "print('Chi^2 = ', best_chi)\n",
    "print('Reduced Chi^2 =', best_chi/dof)\n",
    "\n",
    "plt.show()"
   ]
  },
  {
   "cell_type": "code",
   "execution_count": 22,
   "metadata": {},
   "outputs": [
    {
     "data": {
      "text/plain": [
       "array([1.07655314, 1.07794024, 1.08959817, 1.09318379, 1.10193048,\n",
       "       1.10521906, 1.1134283 , 1.11378635, 1.12159844])"
      ]
     },
     "execution_count": 22,
     "metadata": {},
     "output_type": "execute_result"
    }
   ],
   "source": [
    "y_best"
   ]
  },
  {
   "cell_type": "code",
   "execution_count": null,
   "metadata": {},
   "outputs": [],
   "source": []
  }
 ],
 "metadata": {
  "kernelspec": {
   "display_name": "Python 3",
   "language": "python",
   "name": "python3"
  },
  "language_info": {
   "codemirror_mode": {
    "name": "ipython",
    "version": 3
   },
   "file_extension": ".py",
   "mimetype": "text/x-python",
   "name": "python",
   "nbconvert_exporter": "python",
   "pygments_lexer": "ipython3",
   "version": "3.8.0"
  }
 },
 "nbformat": 4,
 "nbformat_minor": 4
}
